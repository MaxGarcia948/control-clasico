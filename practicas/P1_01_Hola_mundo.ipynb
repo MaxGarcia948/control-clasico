{
 "cells": [
  {
   "cell_type": "markdown",
   "id": "abbf1d3f",
   "metadata": {},
   "source": [
    "#Práctica 1-02: Hola Mundo\n",
    "Este es mi primer notebook en VS Code para la materia de Control Clásico"
   ]
  },
  {
   "cell_type": "code",
   "execution_count": 2,
   "id": "28f1557c",
   "metadata": {},
   "outputs": [
    {
     "name": "stdout",
     "output_type": "stream",
     "text": [
      "Hola Mundo\n"
     ]
    }
   ],
   "source": [
    "print(\"Hola Mundo\")"
   ]
  },
  {
   "cell_type": "code",
   "execution_count": 3,
   "id": "fce6a291",
   "metadata": {},
   "outputs": [
    {
     "name": "stdout",
     "output_type": "stream",
     "text": [
      "Ya me quiero ir\n"
     ]
    }
   ],
   "source": [
    "print(\"Ya me quiero ir\")"
   ]
  }
 ],
 "metadata": {
  "kernelspec": {
   "display_name": ".venv",
   "language": "python",
   "name": "python3"
  },
  "language_info": {
   "codemirror_mode": {
    "name": "ipython",
    "version": 3
   },
   "file_extension": ".py",
   "mimetype": "text/x-python",
   "name": "python",
   "nbconvert_exporter": "python",
   "pygments_lexer": "ipython3",
   "version": "3.13.0"
  }
 },
 "nbformat": 4,
 "nbformat_minor": 5
}
